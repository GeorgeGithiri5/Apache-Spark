{
 "cells": [
  {
   "cell_type": "code",
   "execution_count": 2,
   "metadata": {},
   "outputs": [],
   "source": [
    "from pyspark.sql import SparkSession"
   ]
  },
  {
   "cell_type": "code",
   "execution_count": 3,
   "metadata": {},
   "outputs": [],
   "source": [
    "spark = SparkSession.builder.appName(\"AppName\").getOrCreate()"
   ]
  },
  {
   "cell_type": "code",
   "execution_count": 4,
   "metadata": {},
   "outputs": [],
   "source": [
    "data = [\n",
    "    (1,10),(2,20),(3,10),(4,20),(5,10),\n",
    "    (6,30),(7,50),(8,50),(9,50),(10,30),\n",
    "    (11,10),(12,10),(13,40),(14,40),(15,40),\n",
    "    (16,40),(17,50),(18,10),(19,40),(20,40)\n",
    "]"
   ]
  },
  {
   "cell_type": "code",
   "execution_count": 5,
   "metadata": {},
   "outputs": [],
   "source": [
    "df = spark.createDataFrame(data, [\"id\", \"value\"])"
   ]
  },
  {
   "cell_type": "code",
   "execution_count": 6,
   "metadata": {},
   "outputs": [
    {
     "name": "stdout",
     "output_type": "stream",
     "text": [
      "== Parsed Logical Plan ==\n",
      "'RepartitionByExpression ['value], 3\n",
      "+- LogicalRDD [id#0L, value#1L], false\n",
      "\n",
      "== Analyzed Logical Plan ==\n",
      "id: bigint, value: bigint\n",
      "RepartitionByExpression [value#1L], 3\n",
      "+- LogicalRDD [id#0L, value#1L], false\n",
      "\n",
      "== Optimized Logical Plan ==\n",
      "RepartitionByExpression [value#1L], 3\n",
      "+- LogicalRDD [id#0L, value#1L], false\n",
      "\n",
      "== Physical Plan ==\n",
      "AdaptiveSparkPlan isFinalPlan=false\n",
      "+- Exchange hashpartitioning(value#1L, 3), REPARTITION_BY_NUM, [id=#6]\n",
      "   +- Scan ExistingRDD[id#0L,value#1L]\n",
      "\n"
     ]
    }
   ],
   "source": [
    "df.repartition(3, \"value\").explain(True)"
   ]
  },
  {
   "cell_type": "code",
   "execution_count": null,
   "metadata": {},
   "outputs": [],
   "source": [
    "df.repartition(\"value\").write.option(\"header\", True).mode(\"overwrite\").csv(\"/range-partition\")"
   ]
  },
  {
   "cell_type": "code",
   "execution_count": null,
   "metadata": {},
   "outputs": [],
   "source": [
    "df.repartitionByRange(\"value\").explain(True)\n",
    "df.repartitionByRange(3, \"value\").explain(True)"
   ]
  },
  {
   "cell_type": "code",
   "execution_count": null,
   "metadata": {},
   "outputs": [],
   "source": [
    "df.repartitionByRange(3, \"value\").write.option(\"header\", True).mode(\"overwrite\").csv(\"\")"
   ]
  }
 ],
 "metadata": {
  "kernelspec": {
   "display_name": "Python 3.8.8 ('base')",
   "language": "python",
   "name": "python3"
  },
  "language_info": {
   "codemirror_mode": {
    "name": "ipython",
    "version": 3
   },
   "file_extension": ".py",
   "mimetype": "text/x-python",
   "name": "python",
   "nbconvert_exporter": "python",
   "pygments_lexer": "ipython3",
   "version": "3.8.8"
  },
  "orig_nbformat": 4,
  "vscode": {
   "interpreter": {
    "hash": "c1124073dee199d8e1894afd18905e6ab65c2b78c2f71f2204c8c819619ccb15"
   }
  }
 },
 "nbformat": 4,
 "nbformat_minor": 2
}
